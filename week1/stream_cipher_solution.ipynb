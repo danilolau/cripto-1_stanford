{
  "nbformat": 4,
  "nbformat_minor": 0,
  "metadata": {
    "colab": {
      "name": "stream_cipher_solution.ipynb",
      "provenance": [],
      "collapsed_sections": []
    },
    "kernelspec": {
      "name": "python3",
      "display_name": "Python 3"
    },
    "language_info": {
      "name": "python"
    }
  },
  "cells": [
    {
      "cell_type": "markdown",
      "metadata": {
        "id": "LydeY1XmVLNG"
      },
      "source": [
        " Let us see what goes wrong when a stream cipher key is used more than once.  Below are eleven hex-encoded ciphertexts that are the result of encrypting eleven plaintexts with a stream cipher, all with the same stream cipher key.  Your goal is to decrypt the last ciphertext, and submit the secret message within it as solution. \n",
        "\n",
        "    Hint: XOR the ciphertexts together, and consider what happens when a space is XORed with a character in [a-zA-Z].\n"
      ]
    },
    {
      "cell_type": "code",
      "metadata": {
        "id": "GygRaqGPsD-l"
      },
      "source": [
        "seq = []\n",
        "\n",
        "seq.append(32)\n",
        "\n",
        "for i in range(ord('A'),ord('Z')+1):\n",
        "    seq.append(i)\n",
        "\n",
        "for i in range(ord('a'),ord('z')+1):\n",
        "    seq.append(i)"
      ],
      "execution_count": 1,
      "outputs": []
    },
    {
      "cell_type": "code",
      "metadata": {
        "id": "VUBmF-52GDTH"
      },
      "source": [
        "def get_char(cod):\n",
        "    char = ''\n",
        "    if cod == 32:\n",
        "        char = ' '\n",
        "    else:\n",
        "        char = chr(cod)\n",
        "    return char"
      ],
      "execution_count": 2,
      "outputs": []
    },
    {
      "cell_type": "code",
      "metadata": {
        "id": "6pPc_bkbZ2WK"
      },
      "source": [
        "xor_ascii = {}\n",
        "for i in range(len(seq)):\n",
        "    for j in range(i+1,len(seq)):\n",
        "        xor = seq[i] ^ seq[j]\n",
        "        xor_ascii[xor] = xor_ascii.get(xor,'') + get_char(seq[i]) + get_char(seq[j])"
      ],
      "execution_count": 3,
      "outputs": []
    },
    {
      "cell_type": "code",
      "metadata": {
        "colab": {
          "base_uri": "https://localhost:8080/"
        },
        "id": "1RLrUNlM6MUC",
        "outputId": "2836a238-188d-4c2b-bfe6-a6646a7b1a2c"
      },
      "source": [
        "xor_ascii"
      ],
      "execution_count": 4,
      "outputs": [
        {
          "output_type": "execute_result",
          "data": {
            "text/plain": [
              "{1: 'BCDEFGHIJKLMNOPQRSTUVWXYbcdefghijklmnopqrstuvwxy',\n",
              " 2: 'ACDFEGHJIKLNMOPRQSTVUWXZacdfeghjiklnmoprqstvuwxz',\n",
              " 3: 'ABDGEFHKIJLOMNPSQRTWUVYZabdgefhkijlomnpsqrtwuvyz',\n",
              " 4: 'AEBFCGHLIMJNKOPTQURVSWaebfcghlimjnkoptqurvsw',\n",
              " 5: 'ADBGCFHMILJOKNPUQTRWSVadbgcfhmiljoknpuqtrwsv',\n",
              " 6: 'AGBDCEHNIOJLKMPVQWRTSUagbdcehniojlkmpvqwrtsu',\n",
              " 7: 'AFBECDHOINJMKLPWQVRUSTafbecdhoinjmklpwqvrust',\n",
              " 8: 'AIBJCKDLEMFNGOPXQYRZaibjckdlemfngopxqyrz',\n",
              " 9: 'AHBKCJDMELFOGNPYQXSZahbkcjdmelfognpyqxsz',\n",
              " 10: 'AKBHCIDNEOFLGMPZRXSYakbhcidneoflgmpzrxsy',\n",
              " 11: 'AJBICHDOENFMGLQZRYSXajbichdoenfmglqzrysx',\n",
              " 12: 'AMBNCODHEIFJGKTXUYVZambncodheifjgktxuyvz',\n",
              " 13: 'ALBOCNDIEHFKGJTYUXWZalbocndiehfkgjtyuxwz',\n",
              " 14: 'AOBLCMDJEKFHGITZVXWYaoblcmdjekfhgitzvxwy',\n",
              " 15: 'ANBMCLDKEJFIGHUZVYWXanbmcldkejfighuzvywx',\n",
              " 16: 'AQBRCSDTEUFVGWHXIYJZaqbrcsdteufvgwhxiyjz',\n",
              " 17: 'APBSCRDUETFWGVHYIXKZapbscrduetfwgvhyixkz',\n",
              " 18: 'ASBPCQDVEWFTGUHZJXKYasbpcqdvewftguhzjxky',\n",
              " 19: 'ARBQCPDWEVFUGTIZJYKXarbqcpdwevfugtizjykx',\n",
              " 20: 'AUBVCWDPEQFRGSLXMYNZaubvcwdpeqfrgslxmynz',\n",
              " 21: 'ATBWCVDQEPFSGRLYMXOZatbwcvdqepfsgrlymxoz',\n",
              " 22: 'AWBTCUDRESFPGQLZNXOYawbtcudresfpgqlznxoy',\n",
              " 23: 'AVBUCTDSERFQGPMZNYOXavbuctdserfqgpmznyox',\n",
              " 24: 'AYBZHPIQJRKSLTMUNVOWaybzhpiqjrksltmunvow',\n",
              " 25: 'AXCZHQIPJSKRLUMTNWOVaxczhqipjskrlumtnwov',\n",
              " 26: 'BXCYHRISJPKQLVMWNTOUbxcyhrisjpkqlvmwntou',\n",
              " 27: 'AZBYCXHSIRJQKPLWMVNUOTazbycxhsirjqkplwmvnuot',\n",
              " 28: 'DXEYFZHTIUJVKWLPMQNROSdxeyfzhtiujvkwlpmqnros',\n",
              " 29: 'DYEXGZHUITJWKVLQMPNSORdyexgzhuitjwkvlqmpnsor',\n",
              " 30: 'DZFXGYHVIWJTKULRMSNPOQdzfxgyhviwjtkulrmsnpoq',\n",
              " 31: 'EZFYGXHWIVJUKTLSMRNQOPezfygxhwivjuktlsmrnqop',\n",
              " 32: 'AaBbCcDdEeFfGgHhIiJjKkLlMmNnOoPpQqRrSsTtUuVvWwXxYyZz',\n",
              " 33: 'BcCbDeEdFgGfHiIhJkKjLmMlNoOnPqQpRsSrTuUtVwWvXyYx',\n",
              " 34: 'AcCaDfEgFdGeHjIkJhKiLnMoNlOmPrQsRpSqTvUwVtWuXzZx',\n",
              " 35: 'AbBaDgEfFeGdHkIjJiKhLoMnNmOlPsQrRqSpTwUvVuWtYzZy',\n",
              " 36: 'AeBfCgEaFbGcHlImJnKoLhMiNjOkPtQuRvSwTpUqVrWs',\n",
              " 37: 'AdBgCfDaFcGbHmIlJoKnLiMhNkOjPuQtRwSvTqUpVsWr',\n",
              " 38: 'AgBdCeDbEcGaHnIoJlKmLjMkNhOiPvQwRtSuTrUsVpWq',\n",
              " 39: 'AfBeCdDcEbFaHoInJmKlLkMjNiOhPwQvRuStTsUrVqWp',\n",
              " 40: 'AiBjCkDlEmFnGoIaJbKcLdMeNfOgPxQyRzXpYqZr',\n",
              " 41: 'AhBkCjDmElFoGnHaJcKbLeMdNgOfPyQxSzXqYpZs',\n",
              " 42: 'AkBhCiDnEoFlGmHbIcKaLfMgNdOePzRxSyXrYsZp',\n",
              " 43: 'AjBiChDoEnFmGlHcIbJaLgMfNeOdQzRySxXsYrZq',\n",
              " 44: 'AmBnCoDhEiFjGkHdIeJfKgMaNbOcTxUyVzXtYuZv',\n",
              " 45: 'AlBoCnDiEhFkGjHeIdJgKfLaNcObTyUxWzXuYtZw',\n",
              " 46: 'AoBlCmDjEkFhGiHfIgJdKeLbMcOaTzVxWyXvYwZt',\n",
              " 47: 'AnBmClDkEjFiGhHgIfJeKdLcMbNaUzVyWxXwYvZu',\n",
              " 48: 'AqBrCsDtEuFvGwHxIyJzQaRbScTdUeVfWgXhYiZj',\n",
              " 49: 'ApBsCrDuEtFwGvHyIxKzPaRcSbTeUdVgWfXiYhZk',\n",
              " 50: 'AsBpCqDvEwFtGuHzJxKyPbQcSaTfUgVdWeXjYkZh',\n",
              " 51: 'ArBqCpDwEvFuGtIzJyKxPcQbRaTgUfVeWdXkYjZi',\n",
              " 52: 'AuBvCwDpEqFrGsLxMyNzPdQeRfSgUaVbWcXlYmZn',\n",
              " 53: 'AtBwCvDqEpFsGrLyMxOzPeQdRgSfTaVcWbXmYlZo',\n",
              " 54: 'AwBtCuDrEsFpGqLzNxOyPfQgRdSeTbUcWaXnYoZl',\n",
              " 55: 'AvBuCtDsErFqGpMzNyOxPgQfReSdTcUbVaXoYnZm',\n",
              " 56: 'AyBzHpIqJrKsLtMuNvOwPhQiRjSkTlUmVnWoYaZb',\n",
              " 57: 'AxCzHqIpJsKrLuMtNwOvPiQhRkSjTmUlVoWnXaZc',\n",
              " 58: 'BxCyHrIsJpKqLvMwNtOuPjQkRhSiTnUoVlWmXbYc',\n",
              " 59: 'AzByCxHsIrJqKpLwMvNuOtPkQjRiShToUnVmWlXcYbZa',\n",
              " 60: 'DxEyFzHtIuJvKwLpMqNrOsPlQmRnSoThUiVjWkXdYeZf',\n",
              " 61: 'DyExGzHuItJwKvLqMpNsOrPmQlRoSnTiUhVkWjXeYdZg',\n",
              " 62: 'DzFxGyHvIwJtKuLrMsNpOqPnQoRlSmTjUkVhWiXfYgZd',\n",
              " 63: 'EzFyGxHwIvJuKtLsMrNqOpPoQnRmSlTkUjViWhXgYfZe',\n",
              " 65: ' a',\n",
              " 66: ' b',\n",
              " 67: ' c',\n",
              " 68: ' d',\n",
              " 69: ' e',\n",
              " 70: ' f',\n",
              " 71: ' g',\n",
              " 72: ' h',\n",
              " 73: ' i',\n",
              " 74: ' j',\n",
              " 75: ' k',\n",
              " 76: ' l',\n",
              " 77: ' m',\n",
              " 78: ' n',\n",
              " 79: ' o',\n",
              " 80: ' p',\n",
              " 81: ' q',\n",
              " 82: ' r',\n",
              " 83: ' s',\n",
              " 84: ' t',\n",
              " 85: ' u',\n",
              " 86: ' v',\n",
              " 87: ' w',\n",
              " 88: ' x',\n",
              " 89: ' y',\n",
              " 90: ' z',\n",
              " 97: ' A',\n",
              " 98: ' B',\n",
              " 99: ' C',\n",
              " 100: ' D',\n",
              " 101: ' E',\n",
              " 102: ' F',\n",
              " 103: ' G',\n",
              " 104: ' H',\n",
              " 105: ' I',\n",
              " 106: ' J',\n",
              " 107: ' K',\n",
              " 108: ' L',\n",
              " 109: ' M',\n",
              " 110: ' N',\n",
              " 111: ' O',\n",
              " 112: ' P',\n",
              " 113: ' Q',\n",
              " 114: ' R',\n",
              " 115: ' S',\n",
              " 116: ' T',\n",
              " 117: ' U',\n",
              " 118: ' V',\n",
              " 119: ' W',\n",
              " 120: ' X',\n",
              " 121: ' Y',\n",
              " 122: ' Z'}"
            ]
          },
          "metadata": {
            "tags": []
          },
          "execution_count": 4
        }
      ]
    },
    {
      "cell_type": "code",
      "metadata": {
        "id": "Tjy1xKfIkKfW"
      },
      "source": [
        "ciphers = [\n",
        "\"315c4eeaa8b5f8aaf9174145bf43e1784b8fa00dc71d885a804e5ee9fa40b16349c146fb778cdf2d3aff021dfff5b403b510\\\n",
        "d0d0455468aeb98622b137dae857553ccd8883a7bc37520e06e515d22c954eba5025b8cc57ee59418ce7dc6bc41556bdb36bbca\\\n",
        "3e8774301fbcaa3b83b220809560987815f65286764703de0f3d524400a19b159610b11ef3e\",\n",
        "\"234c02ecbbfbafa3ed18510abd11fa724fcda2018a1a8342cf064bbde548b12b07df44ba7191d9606ef4081ffde5ad46a5069d\\\n",
        "9f7f543bedb9c861bf29c7e205132eda9382b0bc2c5c4b45f919cf3a9f1cb74151f6d551f4480c82b2cb24cc5b028aa76eb7b4ab2\\\n",
        "4171ab3cdadb8356f\",\n",
        "\"32510ba9a7b2bba9b8005d43a304b5714cc0bb0c8a34884dd91304b8ad40b62b07df44ba6e9d8a2368e51d04e0e7b207b70b9b826\\\n",
        "1112bacb6c866a232dfe257527dc29398f5f3251a0d47e503c66e935de81230b59b7afb5f41afa8d661cb\",\n",
        "\"32510ba9aab2a8a4fd06414fb517b5605cc0aa0dc91a8908c2064ba8ad5ea06a029056f47a8ad3306ef5021eafe1ac01a81197847a5\\\n",
        "c68a1b78769a37bc8f4575432c198ccb4ef63590256e305cd3a9544ee4160ead45aef520489e7da7d835402bca670bda8eb775200b8\\\n",
        "dabbba246b130f040d8ec6447e2c767f3d30ed81ea2e4c1404e1315a1010e7229be6636aaa\",\n",
        "\"3f561ba9adb4b6ebec54424ba317b564418fac0dd35f8c08d31a1fe9e24fe56808c213f17c81d9607cee021dafe1e001b21ade877a5\\\n",
        "e68bea88d61b93ac5ee0d562e8e9582f5ef375f0a4ae20ed86e935de81230b59b73fb4302cd95d770c65b40aaa065f2a5e33a5a0bb5\\\n",
        "dcaba43722130f042f8ec85b7c2070\",\n",
        "\"32510bfbacfbb9befd54415da243e1695ecabd58c519cd4bd2061bbde24eb76a19d84aba34d8de287be84d07e7e9a30ee714979c7e\\\n",
        "1123a8bd9822a33ecaf512472e8e8f8db3f9635c1949e640c621854eba0d79eccf52ff111284b4cc61d11902aebc66f2b2e436434eacc\\\n",
        "0aba938220b084800c2ca4e693522643573b2c4ce35050b0cf774201f0fe52ac9f26d71b6cf61a711cc229f77ace7aa88a2f19983122\\\n",
        "b11be87a59c355d25f8e4\",\n",
        "\"32510bfbacfbb9befd54415da243e1695ecabd58c519cd4bd90f1fa6ea5ba47b01c909ba7696cf606ef40c04afe1ac0aa8148dd066592\\\n",
        "ded9f8774b529c7ea125d298e8883f5e9305f4b44f915cb2bd05af51373fd9b4af511039fa2d96f83414aaaf261bda2e97b170fb5cce\\\n",
        "2a53e675c154c0d9681596934777e2275b381ce2e40582afe67650b13e72287ff2270abcf73bb028932836fbdecfecee0a3b894473c1\\\n",
        "bbeb6b4913a536ce4f9b13f1efff71ea313c8661dd9a4ce\",\n",
        "\"315c4eeaa8b5f8bffd11155ea506b56041c6a00c8a08854dd21a4bbde54ce56801d943ba708b8a3574f40c00fff9e00fa1439fd0654\\\n",
        "327a3bfc860b92f89ee04132ecb9298f5fd2d5e4b45e40ecc3b9d59e9417df7c95bba410e9aa2ca24c5474da2f276baa3ac325918b2\\\n",
        "daada43d6712150441c2e04f6565517f317da9d3\",\n",
        "\"271946f9bbb2aeadec111841a81abc300ecaa01bd8069d5cc91005e9fe4aad6e04d513e96d99de2569bc5e50eeeca709b50a8a987f\\\n",
        "4264edb6896fb537d0a716132ddc938fb0f836480e06ed0fcd6e9759f40462f9cf57f4564186a2c1778f1543efa270bda5e933421\\\n",
        "cbe88a4a52222190f471e9bd15f652b653b7071aec59a2705081ffe72651d08f822c9ed6d76e48b63ab15d0208573a7eef027\",\n",
        "\"466d06ece998b7a2fb1d464fed2ced7641ddaa3cc31c9941cf110abbf409ed39598005b3399ccfafb61d0315fca0a314be138a9\\\n",
        "f32503bedac8067f03adbf3575c3b8edc9ba7f537530541ab0f9f3cd04ff50d66f1d559ba520e89a2cb2a83\"\n",
        "]"
      ],
      "execution_count": 5,
      "outputs": []
    },
    {
      "cell_type": "code",
      "metadata": {
        "id": "2xIFWyoIqz5J"
      },
      "source": [
        "target_cipher_txt = \"32510ba9babebbbefd001547a810e67149caee11d945cd7fc81a05e9f85aac650e9052ba6a8cd8257bf14d13e6f0a803b54fde9e77472dbff89d71b57bddef121336cb85ccb8f3315f4b52e301d16e9f52f904\""
      ],
      "execution_count": 6,
      "outputs": []
    },
    {
      "cell_type": "markdown",
      "metadata": {
        "id": "pczxhM3PW20I"
      },
      "source": [
        "The question shares the code used to encrypt the messages, and it is important note that the key is xoerd from the most significant bit to the least significant bit."
      ]
    },
    {
      "cell_type": "code",
      "metadata": {
        "id": "wlCvfZKxHLa1"
      },
      "source": [
        "def xor_string_ciphers(c1,c2):\n",
        "    limit = len(c2)\n",
        "    xor_plain = []\n",
        "    c1_cut = c1[:limit]\n",
        "    for i in range(0,limit,2):\n",
        "        xor = int(c1_cut[i:i+2],16) ^ int(c2[i:i+2],16)\n",
        "        xor_plain.append(xor)\n",
        "    return xor_plain"
      ],
      "execution_count": 7,
      "outputs": []
    },
    {
      "cell_type": "code",
      "metadata": {
        "id": "nU5SnOSbyNCA"
      },
      "source": [
        "target_cipher_len = len(target_cipher_txt)\n",
        "target_dec = {}\n",
        "\n",
        "for txt in ciphers:\n",
        "    xor_plain = xor_string_ciphers(txt,target_cipher_txt)\n",
        "    for i,xor in enumerate(xor_plain):\n",
        "        if xor_ascii.get(xor,None) is not None and xor >= 65:\n",
        "            if target_dec.get(i,None) is None:\n",
        "                target_dec[i] = xor_ascii[xor]\n",
        "            else:\n",
        "                target_dec[i] = target_dec[i] + xor_ascii[xor]"
      ],
      "execution_count": 8,
      "outputs": []
    },
    {
      "cell_type": "code",
      "metadata": {
        "colab": {
          "base_uri": "https://localhost:8080/"
        },
        "id": "SYjpaXkwGb3d",
        "outputId": "6c425859-b797-4dcf-b559-92c0a1e47a2c"
      },
      "source": [
        "target_dec"
      ],
      "execution_count": 9,
      "outputs": [
        {
          "output_type": "execute_result",
          "data": {
            "text/plain": [
              "{0: ' T',\n",
              " 1: ' h',\n",
              " 2: ' e e m',\n",
              " 3: ' c e r r c p e',\n",
              " 4: ' s',\n",
              " 5: ' e e e',\n",
              " 6: ' c c',\n",
              " 7: ' u',\n",
              " 8: ' e',\n",
              " 9: ' t t t',\n",
              " 10: ' t d h t w t t s',\n",
              " 11: ' m',\n",
              " 12: ' e',\n",
              " 13: ' s s s',\n",
              " 14: ' s s s s z',\n",
              " 15: ' a',\n",
              " 16: ' g',\n",
              " 17: ' e e',\n",
              " 18: ' n l u d b s s n n d',\n",
              " 19: ' i i',\n",
              " 20: ' s s s',\n",
              " 21: ' x Q m c y',\n",
              " 22: ' e n e d a h p t',\n",
              " 23: ' W W',\n",
              " 24: ' h',\n",
              " 25: ' t',\n",
              " 26: ' n n n',\n",
              " 27: ' t q a t o t r',\n",
              " 28: ' u u',\n",
              " 29: ' s',\n",
              " 30: ' i i a',\n",
              " 31: ' n n',\n",
              " 32: ' g w',\n",
              " 33: ' q o o r h y i e',\n",
              " 34: ' a a w',\n",
              " 35: ' a n k s',\n",
              " 36: ' s',\n",
              " 37: ' t',\n",
              " 38: ' r r',\n",
              " 39: ' e e e',\n",
              " 40: ' a',\n",
              " 41: ' m',\n",
              " 42: ' o e p o o a a n',\n",
              " 43: ' c',\n",
              " 44: ' i i i',\n",
              " 45: ' p',\n",
              " 46: ' h h',\n",
              " 47: ' e',\n",
              " 48: ' r',\n",
              " 49: ' i d u e',\n",
              " 50: ' c e i i s a t t',\n",
              " 51: ' n n n',\n",
              " 52: ' e',\n",
              " 53: ' v v',\n",
              " 54: ' e e e i',\n",
              " 55: ' r r r r',\n",
              " 56: ' a a n o p e G g n t',\n",
              " 57: ' u u u',\n",
              " 58: ' s s',\n",
              " 59: ' e',\n",
              " 60: ' l r i a e r t l a',\n",
              " 61: ' t',\n",
              " 62: ' h',\n",
              " 63: ' e e e e',\n",
              " 64: ' f a g e t n o',\n",
              " 65: ' k',\n",
              " 66: ' e e e e',\n",
              " 67: ' y',\n",
              " 68: ' o n t n a o t c w',\n",
              " 69: ' m m m m',\n",
              " 70: ' o o',\n",
              " 71: ' r r',\n",
              " 72: ' e',\n",
              " 73: ' e f i a r e n',\n",
              " 74: ' t t',\n",
              " 75: ' h',\n",
              " 76: ' a',\n",
              " 77: ' n',\n",
              " 78: ' b t t o e u r',\n",
              " 79: ' o o',\n",
              " 80: ' n',\n",
              " 81: ' c n c',\n",
              " 82: ' t e e e'}"
            ]
          },
          "metadata": {
            "tags": []
          },
          "execution_count": 9
        }
      ]
    },
    {
      "cell_type": "markdown",
      "metadata": {
        "id": "S4wAm37cTPEP"
      },
      "source": [
        "The secret message is: When using a stream cipher, never use the key more \n",
        "than once"
      ]
    }
  ]
}